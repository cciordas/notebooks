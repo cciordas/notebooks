{
 "cells": [
  {
   "cell_type": "markdown",
   "metadata": {},
   "source": [
    "In this notebook we compare three approaches to implementing a simple NN.\n",
    "<ul>\n",
    "<li> implement backpropagation explicitely using `numpy` ndarrays</li>\n",
    "<li> implement backpropagation explicitely using `pytorch` Tensors</li>\n",
    "<li> use the computational graphs approach using `pytorch` for reverse mode differentiation</li>\n",
    "</ul>\n",
    "The three examples are taken from:\n",
    "http://pytorch.org/tutorials/beginner/pytorch_with_examples.html#warm-up-numpy"
   ]
  },
  {
   "cell_type": "code",
   "execution_count": 17,
   "metadata": {},
   "outputs": [
    {
     "name": "stdout",
     "output_type": "stream",
     "text": [
      "The line_profiler extension is already loaded. To reload it, use:\n",
      "  %reload_ext line_profiler\n"
     ]
    }
   ],
   "source": [
    "import numpy as np\n",
    "import timeit\n",
    "import torch\n",
    "from torch.autograd import Variable\n",
    "from torch import Tensor\n",
    "import line_profiler\n",
    "%load_ext line_profiler"
   ]
  },
  {
   "cell_type": "code",
   "execution_count": 18,
   "metadata": {
    "collapsed": true
   },
   "outputs": [],
   "source": [
    "# CONFIGURATION VARIABLES\n",
    "# these values are shared by the three implementations\n",
    "\n",
    "# We are implementing a NN with one hidden layer:\n",
    "#  INSZ  - the size of the input  layer\n",
    "#  HIDSZ - the size of the hidden layer\n",
    "#  OUTSZ - the size of the output layer\n",
    "INSZ, HIDSZ, OUTSZ = 784, 30, 10\n",
    "\n",
    "# batch size\n",
    "BATCHSZ = 64\n",
    "\n",
    "# how many times to repeat the training process \n",
    "NREPS = 10\n",
    "\n",
    "dtype = torch.DoubleTensor"
   ]
  },
  {
   "cell_type": "code",
   "execution_count": 19,
   "metadata": {
    "collapsed": true
   },
   "outputs": [],
   "source": [
    "# FIRST IMPLEMENTATION:\n",
    "# Implement backpropagation explicitely using 'numpy' ndarrays\n",
    "\n",
    "def backprop_numpy():\n",
    "    start_time = timeit.default_timer()\n",
    "    \n",
    "    for counter in range(NREPS):\n",
    "\n",
    "        # Create random input and output data\n",
    "        x = np.random.randn(BATCHSZ, INSZ)\n",
    "        y = np.random.randn(BATCHSZ, OUTSZ)\n",
    "\n",
    "        # Randomly initialize weights\n",
    "        w1 = np.random.randn(INSZ , HIDSZ)\n",
    "        w2 = np.random.randn(HIDSZ, OUTSZ)\n",
    "\n",
    "        learning_rate = 1e-6\n",
    "        for t in range(500):\n",
    "            \n",
    "            # Forward pass: compute predicted y\n",
    "            h = x.dot(w1)\n",
    "            h_relu = np.maximum(h, 0)\n",
    "            y_pred = h_relu.dot(w2)\n",
    "\n",
    "            # Compute loss\n",
    "            loss = np.square(y_pred - y).sum()\n",
    "\n",
    "            # Backprop to compute gradients of w1 and w2 with respect to loss\n",
    "            grad_y_pred = 2.0 * (y_pred - y)\n",
    "            grad_w2 = h_relu.T.dot(grad_y_pred)\n",
    "            grad_h_relu = grad_y_pred.dot(w2.T)\n",
    "            grad_h = grad_h_relu.copy()\n",
    "            grad_h[h < 0] = 0\n",
    "            grad_w1 = x.T.dot(grad_h)\n",
    "\n",
    "            # Update weights\n",
    "            w1 -= learning_rate * grad_w1\n",
    "            w2 -= learning_rate * grad_w2\n",
    "\n",
    "    print(timeit.default_timer() - start_time)"
   ]
  },
  {
   "cell_type": "code",
   "execution_count": 20,
   "metadata": {
    "collapsed": true
   },
   "outputs": [],
   "source": [
    "# SECOND IMPLEMENTATION:\n",
    "# Implement backpropagation explicitely using 'pytorch' Tensors\n",
    "\n",
    "def backprop_pytorch():\n",
    "    start_time = timeit.default_timer()\n",
    "    \n",
    "    for counter in range(NREPS):\n",
    "\n",
    "        # Create random input and output data\n",
    "        x = torch.randn(BATCHSZ,  INSZ).type(dtype)\n",
    "        y = torch.randn(BATCHSZ, OUTSZ).type(dtype)\n",
    "\n",
    "        # Randomly initialize weights\n",
    "        w1 = torch.randn( INSZ, HIDSZ).type(dtype)\n",
    "        w2 = torch.randn(HIDSZ, OUTSZ).type(dtype)\n",
    "\n",
    "        learning_rate = 1e-6\n",
    "        for t in range(500):\n",
    "            \n",
    "            # Forward pass: compute predicted y\n",
    "            h = x.mm(w1)\n",
    "            h_relu = h.clamp(min=0)\n",
    "            y_pred = h_relu.mm(w2)\n",
    "\n",
    "            # Compute loss\n",
    "            loss = (y_pred - y).pow(2).sum()\n",
    "\n",
    "            # Backprop to compute gradients of w1 and w2 with respect to loss\n",
    "            grad_y_pred = 2.0 * (y_pred - y)\n",
    "            grad_w2 = h_relu.t().mm(grad_y_pred)\n",
    "            grad_h_relu = grad_y_pred.mm(w2.t())\n",
    "            grad_h = grad_h_relu.clone()\n",
    "            grad_h[h < 0] = 0\n",
    "            grad_w1 = x.t().mm(grad_h)\n",
    "\n",
    "            # Update weights using gradient descent\n",
    "            w1 -= learning_rate * grad_w1\n",
    "            w2 -= learning_rate * grad_w2\n",
    "\n",
    "    print(timeit.default_timer() - start_time)"
   ]
  },
  {
   "cell_type": "code",
   "execution_count": 21,
   "metadata": {
    "collapsed": true
   },
   "outputs": [],
   "source": [
    "# THIRD IMPLEMENTATION:\n",
    "# Use the computational graph / reverse mode differentiation approach (using 'pytorch')\n",
    "\n",
    "def autograd_pytorch():\n",
    "    start_time = timeit.default_timer()\n",
    "\n",
    "    for counter in range(NREPS):\n",
    "\n",
    "        # Create random Tensors to hold input and outputs, and wrap them in Variables.\n",
    "        # Setting requires_grad=False indicates that we do not need to compute gradients\n",
    "        # with respect to these Variables during the backward pass.\n",
    "        x = Variable(torch.randn(BATCHSZ,  INSZ).type(dtype), requires_grad=False)\n",
    "        y = Variable(torch.randn(BATCHSZ, OUTSZ).type(dtype), requires_grad=False)\n",
    "\n",
    "        # Create random Tensors for weights, and wrap them in Variables.\n",
    "        # Setting requires_grad=True indicates that we want to compute gradients with\n",
    "        # respect to these Variables during the backward pass.\n",
    "        w1 = Variable(torch.randn( INSZ, HIDSZ).type(dtype), requires_grad=True)\n",
    "        w2 = Variable(torch.randn(HIDSZ, OUTSZ).type(dtype), requires_grad=True)\n",
    "\n",
    "        learning_rate = 1e-6\n",
    "        for t in range(500):\n",
    "            \n",
    "            # Forward pass: compute predicted y using operations on Variables; these\n",
    "            # are exactly the same operations we used to compute the forward pass using\n",
    "            # Tensors, but we do not need to keep references to intermediate values since\n",
    "            # we are not implementing the backward pass by hand.\n",
    "            y_pred = x.mm(w1).clamp(min=0).mm(w2)\n",
    "\n",
    "            # Compute and loss using operations on Variables.\n",
    "            # Now loss is a Variable of shape (1,) and loss.data is a Tensor of shape\n",
    "            # (1,); loss.data[0] is a scalar value holding the loss.\n",
    "            loss = (y_pred - y).pow(2).sum()\n",
    "\n",
    "            # Use autograd to compute the backward pass. This call will compute the\n",
    "            # gradient of loss with respect to all Variables with requires_grad=True.\n",
    "            # After this call w1.grad and w2.grad will be Variables holding the gradient\n",
    "            # of the loss with respect to w1 and w2 respectively.\n",
    "            loss.backward()\n",
    "\n",
    "            # Update weights using gradient descent; w1.data and w2.data are Tensors,\n",
    "            # w1.grad and w2.grad are Variables and w1.grad.data and w2.grad.data are\n",
    "            # Tensors.\n",
    "            w1.data -= learning_rate * w1.grad.data\n",
    "            w2.data -= learning_rate * w2.grad.data\n",
    "\n",
    "            # Manually zero the gradients after updating weights\n",
    "            w1.grad.data.zero_()\n",
    "            w2.grad.data.zero_()\n",
    "\n",
    "    print(timeit.default_timer() - start_time)"
   ]
  },
  {
   "cell_type": "code",
   "execution_count": 22,
   "metadata": {},
   "outputs": [
    {
     "name": "stdout",
     "output_type": "stream",
     "text": [
      "2.00706556183286\n"
     ]
    }
   ],
   "source": [
    "# Run the first implementation\n",
    "# uncomment one of the two lines below (the second one produces profiling info)\n",
    "\n",
    "#backprop_numpy()\n",
    "%lprun -f backprop_numpy backprop_numpy()"
   ]
  },
  {
   "cell_type": "code",
   "execution_count": 23,
   "metadata": {},
   "outputs": [
    {
     "name": "stdout",
     "output_type": "stream",
     "text": [
      "1.4933980808127671\n"
     ]
    }
   ],
   "source": [
    "# Run the second implementation\n",
    "# uncomment one of the two lines below (the second one produces profiling info)\n",
    "\n",
    "#backprop_pytorch()\n",
    "%lprun -f backprop_pytorch backprop_pytorch()"
   ]
  },
  {
   "cell_type": "code",
   "execution_count": 24,
   "metadata": {},
   "outputs": [
    {
     "name": "stdout",
     "output_type": "stream",
     "text": [
      "5.049617765005678\n"
     ]
    }
   ],
   "source": [
    "# Run the third implementation\n",
    "# uncomment one of the two lines below (the second one produces profiling info)\n",
    "\n",
    "#autograd_pytorch()\n",
    "%lprun -f autograd_pytorch autograd_pytorch()"
   ]
  },
  {
   "cell_type": "code",
   "execution_count": null,
   "metadata": {
    "collapsed": true
   },
   "outputs": [],
   "source": []
  }
 ],
 "metadata": {
  "kernelspec": {
   "display_name": "Python 3",
   "language": "python",
   "name": "python3"
  },
  "language_info": {
   "codemirror_mode": {
    "name": "ipython",
    "version": 3
   },
   "file_extension": ".py",
   "mimetype": "text/x-python",
   "name": "python",
   "nbconvert_exporter": "python",
   "pygments_lexer": "ipython3",
   "version": "3.6.3"
  }
 },
 "nbformat": 4,
 "nbformat_minor": 2
}
