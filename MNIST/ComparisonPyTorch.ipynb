{
 "cells": [
  {
   "cell_type": "code",
   "execution_count": 6,
   "metadata": {},
   "outputs": [
    {
     "name": "stdout",
     "output_type": "stream",
     "text": [
      "The line_profiler extension is already loaded. To reload it, use:\n",
      "  %reload_ext line_profiler\n"
     ]
    }
   ],
   "source": [
    "import torch\n",
    "from torch.autograd import Variable\n",
    "from torch import Tensor\n",
    "import numpy as np\n",
    "import timeit\n",
    "import line_profiler\n",
    "\n",
    "%load_ext line_profiler"
   ]
  },
  {
   "cell_type": "code",
   "execution_count": 43,
   "metadata": {
    "collapsed": true
   },
   "outputs": [],
   "source": [
    "# Configure experiment\n",
    "\n",
    "NREPS = 10\n",
    "\n",
    "# N is batch size; D_in is input dimension;\n",
    "# H is hidden dimension; D_out is output dimension.\n",
    "N, D_in, H, D_out = 64, 1000, 100, 10\n",
    "\n",
    "dtype = torch.DoubleTensor"
   ]
  },
  {
   "cell_type": "code",
   "execution_count": 8,
   "metadata": {},
   "outputs": [],
   "source": [
    "### NUMPY ###\n",
    "\n",
    "def as_numpy():\n",
    "    start_time = timeit.default_timer()\n",
    "    for counter in range(NREPS):\n",
    "\n",
    "        # Create random input and output data\n",
    "        x = np.random.randn(N, D_in)\n",
    "        y = np.random.randn(N, D_out)\n",
    "\n",
    "        # Randomly initialize weights\n",
    "        w1 = np.random.randn(D_in, H)\n",
    "        w2 = np.random.randn(H, D_out)\n",
    "\n",
    "        learning_rate = 1e-6\n",
    "        for t in range(500):\n",
    "            # Forward pass: compute predicted y\n",
    "            h = x.dot(w1)\n",
    "            h_relu = np.maximum(h, 0)\n",
    "            y_pred = h_relu.dot(w2)\n",
    "\n",
    "            # Compute and print loss\n",
    "            loss = np.square(y_pred - y).sum()\n",
    "\n",
    "            # Backprop to compute gradients of w1 and w2 with respect to loss\n",
    "            grad_y_pred = 2.0 * (y_pred - y)\n",
    "            grad_w2 = h_relu.T.dot(grad_y_pred)\n",
    "            grad_h_relu = grad_y_pred.dot(w2.T)\n",
    "            grad_h = grad_h_relu.copy()\n",
    "            grad_h[h < 0] = 0\n",
    "            grad_w1 = x.T.dot(grad_h)\n",
    "\n",
    "            # Update weights\n",
    "            w1 -= learning_rate * grad_w1\n",
    "            w2 -= learning_rate * grad_w2\n",
    "\n",
    "    print(timeit.default_timer() - start_time)\n",
    "    "
   ]
  },
  {
   "cell_type": "code",
   "execution_count": 44,
   "metadata": {},
   "outputs": [],
   "source": [
    "### PYTORCH as NUMPY ###\n",
    "\n",
    "def as_pytorch():\n",
    "    start_time = timeit.default_timer()\n",
    "    for counter in range(NREPS):\n",
    "\n",
    "        # Create random input and output data\n",
    "        x = torch.randn(N, D_in).type(dtype)\n",
    "        y = torch.randn(N, D_out).type(dtype)\n",
    "\n",
    "        # Randomly initialize weights\n",
    "        w1 = torch.randn(D_in, H).type(dtype)\n",
    "        w2 = torch.randn(H, D_out).type(dtype)\n",
    "\n",
    "        learning_rate = 1e-6\n",
    "        for t in range(500):\n",
    "            # Forward pass: compute predicted y\n",
    "            h = x.mm(w1)\n",
    "            h_relu = h.clamp(min=0)\n",
    "            y_pred = h_relu.mm(w2)\n",
    "\n",
    "            # Compute and print loss\n",
    "            loss = (y_pred - y).pow(2).sum()\n",
    "\n",
    "            # Backprop to compute gradients of w1 and w2 with respect to loss\n",
    "            grad_y_pred = 2.0 * (y_pred - y)\n",
    "            grad_w2 = h_relu.t().mm(grad_y_pred)\n",
    "            grad_h_relu = grad_y_pred.mm(w2.t())\n",
    "            grad_h = grad_h_relu.clone()\n",
    "            grad_h[h < 0] = 0\n",
    "            grad_w1 = x.t().mm(grad_h)\n",
    "\n",
    "            # Update weights using gradient descent\n",
    "            w1 -= learning_rate * grad_w1\n",
    "            w2 -= learning_rate * grad_w2\n",
    "\n",
    "    print(timeit.default_timer() - start_time)"
   ]
  },
  {
   "cell_type": "code",
   "execution_count": 12,
   "metadata": {},
   "outputs": [],
   "source": [
    "# PYTORCH AUTOGRAD #\n",
    "\n",
    "def as_autograd():\n",
    "    start_time = timeit.default_timer()\n",
    "    for counter in range(NREPS):\n",
    "\n",
    "        # Create random Tensors to hold input and outputs, and wrap them in Variables.\n",
    "        # Setting requires_grad=False indicates that we do not need to compute gradients\n",
    "        # with respect to these Variables during the backward pass.\n",
    "        x = Variable(torch.randn(N, D_in).type(dtype), requires_grad=False)\n",
    "        y = Variable(torch.randn(N, D_out).type(dtype), requires_grad=False)\n",
    "\n",
    "        # Create random Tensors for weights, and wrap them in Variables.\n",
    "        # Setting requires_grad=True indicates that we want to compute gradients with\n",
    "        # respect to these Variables during the backward pass.\n",
    "        w1 = Variable(torch.randn(D_in, H).type(dtype), requires_grad=True)\n",
    "        w2 = Variable(torch.randn(H, D_out).type(dtype), requires_grad=True)\n",
    "\n",
    "        learning_rate = 1e-6\n",
    "        for t in range(500):\n",
    "            # Forward pass: compute predicted y using operations on Variables; these\n",
    "            # are exactly the same operations we used to compute the forward pass using\n",
    "            # Tensors, but we do not need to keep references to intermediate values since\n",
    "            # we are not implementing the backward pass by hand.\n",
    "            y_pred = x.mm(w1).clamp(min=0).mm(w2)\n",
    "\n",
    "            # Compute and print loss using operations on Variables.\n",
    "            # Now loss is a Variable of shape (1,) and loss.data is a Tensor of shape\n",
    "            # (1,); loss.data[0] is a scalar value holding the loss.\n",
    "            loss = (y_pred - y).pow(2).sum()\n",
    "\n",
    "            # Use autograd to compute the backward pass. This call will compute the\n",
    "            # gradient of loss with respect to all Variables with requires_grad=True.\n",
    "            # After this call w1.grad and w2.grad will be Variables holding the gradient\n",
    "            # of the loss with respect to w1 and w2 respectively.\n",
    "            loss.backward()\n",
    "\n",
    "            # Update weights using gradient descent; w1.data and w2.data are Tensors,\n",
    "            # w1.grad and w2.grad are Variables and w1.grad.data and w2.grad.data are\n",
    "            # Tensors.\n",
    "            w1.data -= learning_rate * w1.grad.data\n",
    "            w2.data -= learning_rate * w2.grad.data\n",
    "\n",
    "            # Manually zero the gradients after updating weights\n",
    "            w1.grad.data.zero_()\n",
    "            w2.grad.data.zero_()\n",
    "\n",
    "    print(timeit.default_timer() - start_time)"
   ]
  },
  {
   "cell_type": "code",
   "execution_count": 38,
   "metadata": {},
   "outputs": [],
   "source": [
    "a = np.random.rand(1000, 1000)\n",
    "v = np.random.rand(1, 1000)\n",
    "\n",
    "ta = torch.from_numpy(a)\n",
    "tv = torch.from_numpy(v)\n",
    "\n",
    "\n",
    "def npy():\n",
    "   np.dot(a, v.T)\n",
    "            \n",
    "def trc():\n",
    "   ta.mm(tv.t())"
   ]
  },
  {
   "cell_type": "code",
   "execution_count": 40,
   "metadata": {},
   "outputs": [],
   "source": [
    "#%lprun -f npy npy()\n",
    "%lprun -f trc trc()"
   ]
  },
  {
   "cell_type": "code",
   "execution_count": 41,
   "metadata": {},
   "outputs": [
    {
     "name": "stdout",
     "output_type": "stream",
     "text": [
      "6.269006385002285\n"
     ]
    }
   ],
   "source": [
    "as_numpy()"
   ]
  },
  {
   "cell_type": "code",
   "execution_count": 45,
   "metadata": {},
   "outputs": [
    {
     "name": "stdout",
     "output_type": "stream",
     "text": [
      "4.151195100974292\n"
     ]
    }
   ],
   "source": [
    "as_pytorch()"
   ]
  },
  {
   "cell_type": "code",
   "execution_count": null,
   "metadata": {
    "collapsed": true
   },
   "outputs": [],
   "source": []
  }
 ],
 "metadata": {
  "kernelspec": {
   "display_name": "Python 3",
   "language": "python",
   "name": "python3"
  },
  "language_info": {
   "codemirror_mode": {
    "name": "ipython",
    "version": 3
   },
   "file_extension": ".py",
   "mimetype": "text/x-python",
   "name": "python",
   "nbconvert_exporter": "python",
   "pygments_lexer": "ipython3",
   "version": "3.6.2"
  }
 },
 "nbformat": 4,
 "nbformat_minor": 2
}
